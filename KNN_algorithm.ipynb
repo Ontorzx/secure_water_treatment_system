{
 "cells": [
  {
   "cell_type": "code",
   "execution_count": 1,
   "metadata": {},
   "outputs": [],
   "source": [
    "import pandas as pd\n",
    "import matplotlib.pyplot as plt\n",
    "import numpy as np\n",
    "from sklearn.model_selection import cross_validate\n",
    "from sklearn.model_selection import train_test_split\n",
    "from sklearn.preprocessing import StandardScaler\n",
    "from sklearn.neighbors import KNeighborsClassifier\n",
    "from sklearn.metrics import confusion_matrix\n",
    "from sklearn.metrics import classification_report,confusion_matrix"
   ]
  },
  {
   "cell_type": "code",
   "execution_count": 2,
   "metadata": {},
   "outputs": [
    {
     "data": {
      "text/html": [
       "<div>\n",
       "<style scoped>\n",
       "    .dataframe tbody tr th:only-of-type {\n",
       "        vertical-align: middle;\n",
       "    }\n",
       "\n",
       "    .dataframe tbody tr th {\n",
       "        vertical-align: top;\n",
       "    }\n",
       "\n",
       "    .dataframe thead th {\n",
       "        text-align: right;\n",
       "    }\n",
       "</style>\n",
       "<table border=\"1\" class=\"dataframe\">\n",
       "  <thead>\n",
       "    <tr style=\"text-align: right;\">\n",
       "      <th></th>\n",
       "      <th>t_stamp</th>\n",
       "      <th>time</th>\n",
       "      <th>FIT 101</th>\n",
       "      <th>LIT101</th>\n",
       "      <th>MV101</th>\n",
       "      <th>P1_STATE</th>\n",
       "      <th>P101 Status</th>\n",
       "      <th>P102 Status</th>\n",
       "      <th>AIT201</th>\n",
       "      <th>AIT 202</th>\n",
       "      <th>...</th>\n",
       "      <th>LSH 601</th>\n",
       "      <th>LSH 602</th>\n",
       "      <th>LSH 603</th>\n",
       "      <th>LSL 601</th>\n",
       "      <th>LSL 602</th>\n",
       "      <th>LSL 603</th>\n",
       "      <th>P6 STATE</th>\n",
       "      <th>P601 Status</th>\n",
       "      <th>P602 Status</th>\n",
       "      <th>P603 Status</th>\n",
       "    </tr>\n",
       "  </thead>\n",
       "  <tbody>\n",
       "    <tr>\n",
       "      <td>0</td>\n",
       "      <td>2019-07-20T04:30:00Z</td>\n",
       "      <td>04:30:00</td>\n",
       "      <td>NaN</td>\n",
       "      <td>729.865800</td>\n",
       "      <td>1</td>\n",
       "      <td>3</td>\n",
       "      <td>2</td>\n",
       "      <td>1</td>\n",
       "      <td>142.527557</td>\n",
       "      <td>9.293002</td>\n",
       "      <td>...</td>\n",
       "      <td>{u'IsSystem': False, u'Name': u'Active', u'Val...</td>\n",
       "      <td>{u'IsSystem': False, u'Name': u'Active', u'Val...</td>\n",
       "      <td>{u'IsSystem': False, u'Name': u'Inactive', u'V...</td>\n",
       "      <td>{u'IsSystem': False, u'Name': u'Inactive', u'V...</td>\n",
       "      <td>{u'IsSystem': False, u'Name': u'Inactive', u'V...</td>\n",
       "      <td>{u'IsSystem': False, u'Name': u'Active', u'Val...</td>\n",
       "      <td>2</td>\n",
       "      <td>1</td>\n",
       "      <td>1</td>\n",
       "      <td>1</td>\n",
       "    </tr>\n",
       "    <tr>\n",
       "      <td>1</td>\n",
       "      <td>2019-07-20T04:30:01Z</td>\n",
       "      <td>04:30:01</td>\n",
       "      <td>0.000000</td>\n",
       "      <td>729.434000</td>\n",
       "      <td>1</td>\n",
       "      <td>3</td>\n",
       "      <td>2</td>\n",
       "      <td>1</td>\n",
       "      <td>142.527557</td>\n",
       "      <td>9.293002</td>\n",
       "      <td>...</td>\n",
       "      <td>{u'IsSystem': False, u'Name': u'Active', u'Val...</td>\n",
       "      <td>{u'IsSystem': False, u'Name': u'Active', u'Val...</td>\n",
       "      <td>{u'IsSystem': False, u'Name': u'Inactive', u'V...</td>\n",
       "      <td>{u'IsSystem': False, u'Name': u'Inactive', u'V...</td>\n",
       "      <td>{u'IsSystem': False, u'Name': u'Inactive', u'V...</td>\n",
       "      <td>{u'IsSystem': False, u'Name': u'Active', u'Val...</td>\n",
       "      <td>2</td>\n",
       "      <td>1</td>\n",
       "      <td>1</td>\n",
       "      <td>1</td>\n",
       "    </tr>\n",
       "    <tr>\n",
       "      <td>2</td>\n",
       "      <td>2019-07-20T04:30:02.004013Z</td>\n",
       "      <td>04:30:02</td>\n",
       "      <td>0.000000</td>\n",
       "      <td>729.120000</td>\n",
       "      <td>1</td>\n",
       "      <td>3</td>\n",
       "      <td>2</td>\n",
       "      <td>1</td>\n",
       "      <td>142.527557</td>\n",
       "      <td>9.293002</td>\n",
       "      <td>...</td>\n",
       "      <td>{u'IsSystem': False, u'Name': u'Active', u'Val...</td>\n",
       "      <td>{u'IsSystem': False, u'Name': u'Active', u'Val...</td>\n",
       "      <td>{u'IsSystem': False, u'Name': u'Inactive', u'V...</td>\n",
       "      <td>{u'IsSystem': False, u'Name': u'Inactive', u'V...</td>\n",
       "      <td>{u'IsSystem': False, u'Name': u'Inactive', u'V...</td>\n",
       "      <td>{u'IsSystem': False, u'Name': u'Active', u'Val...</td>\n",
       "      <td>2</td>\n",
       "      <td>1</td>\n",
       "      <td>1</td>\n",
       "      <td>1</td>\n",
       "    </tr>\n",
       "    <tr>\n",
       "      <td>3</td>\n",
       "      <td>2019-07-20T04:30:03.004013Z</td>\n",
       "      <td>04:30:03</td>\n",
       "      <td>0.000000</td>\n",
       "      <td>728.688200</td>\n",
       "      <td>1</td>\n",
       "      <td>3</td>\n",
       "      <td>2</td>\n",
       "      <td>1</td>\n",
       "      <td>142.527557</td>\n",
       "      <td>9.289157</td>\n",
       "      <td>...</td>\n",
       "      <td>{u'IsSystem': False, u'Name': u'Active', u'Val...</td>\n",
       "      <td>{u'IsSystem': False, u'Name': u'Active', u'Val...</td>\n",
       "      <td>{u'IsSystem': False, u'Name': u'Inactive', u'V...</td>\n",
       "      <td>{u'IsSystem': False, u'Name': u'Inactive', u'V...</td>\n",
       "      <td>{u'IsSystem': False, u'Name': u'Inactive', u'V...</td>\n",
       "      <td>{u'IsSystem': False, u'Name': u'Active', u'Val...</td>\n",
       "      <td>2</td>\n",
       "      <td>1</td>\n",
       "      <td>1</td>\n",
       "      <td>1</td>\n",
       "    </tr>\n",
       "    <tr>\n",
       "      <td>4</td>\n",
       "      <td>2019-07-20T04:30:04Z</td>\n",
       "      <td>04:30:04</td>\n",
       "      <td>0.000000</td>\n",
       "      <td>727.706900</td>\n",
       "      <td>1</td>\n",
       "      <td>3</td>\n",
       "      <td>2</td>\n",
       "      <td>1</td>\n",
       "      <td>142.527557</td>\n",
       "      <td>9.289157</td>\n",
       "      <td>...</td>\n",
       "      <td>{u'IsSystem': False, u'Name': u'Active', u'Val...</td>\n",
       "      <td>{u'IsSystem': False, u'Name': u'Active', u'Val...</td>\n",
       "      <td>{u'IsSystem': False, u'Name': u'Inactive', u'V...</td>\n",
       "      <td>{u'IsSystem': False, u'Name': u'Inactive', u'V...</td>\n",
       "      <td>{u'IsSystem': False, u'Name': u'Inactive', u'V...</td>\n",
       "      <td>{u'IsSystem': False, u'Name': u'Active', u'Val...</td>\n",
       "      <td>2</td>\n",
       "      <td>1</td>\n",
       "      <td>1</td>\n",
       "      <td>1</td>\n",
       "    </tr>\n",
       "    <tr>\n",
       "      <td>...</td>\n",
       "      <td>...</td>\n",
       "      <td>...</td>\n",
       "      <td>...</td>\n",
       "      <td>...</td>\n",
       "      <td>...</td>\n",
       "      <td>...</td>\n",
       "      <td>...</td>\n",
       "      <td>...</td>\n",
       "      <td>...</td>\n",
       "      <td>...</td>\n",
       "      <td>...</td>\n",
       "      <td>...</td>\n",
       "      <td>...</td>\n",
       "      <td>...</td>\n",
       "      <td>...</td>\n",
       "      <td>...</td>\n",
       "      <td>...</td>\n",
       "      <td>...</td>\n",
       "      <td>...</td>\n",
       "      <td>...</td>\n",
       "      <td>...</td>\n",
       "    </tr>\n",
       "    <tr>\n",
       "      <td>14991</td>\n",
       "      <td>2019-07-20T08:39:55.001007Z</td>\n",
       "      <td>08:39:51</td>\n",
       "      <td>4.200429</td>\n",
       "      <td>491.169769</td>\n",
       "      <td>2</td>\n",
       "      <td>2</td>\n",
       "      <td>2</td>\n",
       "      <td>1</td>\n",
       "      <td>131.408615</td>\n",
       "      <td>9.319918</td>\n",
       "      <td>...</td>\n",
       "      <td>{u'IsSystem': False, u'Name': u'Active', u'Val...</td>\n",
       "      <td>{u'IsSystem': False, u'Name': u'Active', u'Val...</td>\n",
       "      <td>{u'IsSystem': False, u'Name': u'Inactive', u'V...</td>\n",
       "      <td>{u'IsSystem': False, u'Name': u'Inactive', u'V...</td>\n",
       "      <td>{u'IsSystem': False, u'Name': u'Inactive', u'V...</td>\n",
       "      <td>{u'IsSystem': False, u'Name': u'Active', u'Val...</td>\n",
       "      <td>2</td>\n",
       "      <td>1</td>\n",
       "      <td>1</td>\n",
       "      <td>1</td>\n",
       "    </tr>\n",
       "    <tr>\n",
       "      <td>14992</td>\n",
       "      <td>2019-07-20T08:39:56.0050048Z</td>\n",
       "      <td>08:39:52</td>\n",
       "      <td>4.253915</td>\n",
       "      <td>491.405273</td>\n",
       "      <td>2</td>\n",
       "      <td>2</td>\n",
       "      <td>2</td>\n",
       "      <td>1</td>\n",
       "      <td>131.408615</td>\n",
       "      <td>9.317354</td>\n",
       "      <td>...</td>\n",
       "      <td>{u'IsSystem': False, u'Name': u'Active', u'Val...</td>\n",
       "      <td>{u'IsSystem': False, u'Name': u'Active', u'Val...</td>\n",
       "      <td>{u'IsSystem': False, u'Name': u'Inactive', u'V...</td>\n",
       "      <td>{u'IsSystem': False, u'Name': u'Inactive', u'V...</td>\n",
       "      <td>{u'IsSystem': False, u'Name': u'Inactive', u'V...</td>\n",
       "      <td>{u'IsSystem': False, u'Name': u'Active', u'Val...</td>\n",
       "      <td>2</td>\n",
       "      <td>1</td>\n",
       "      <td>1</td>\n",
       "      <td>1</td>\n",
       "    </tr>\n",
       "    <tr>\n",
       "      <td>14993</td>\n",
       "      <td>2019-07-20T08:39:57.0050048Z</td>\n",
       "      <td>08:39:53</td>\n",
       "      <td>4.303558</td>\n",
       "      <td>492.308100</td>\n",
       "      <td>2</td>\n",
       "      <td>2</td>\n",
       "      <td>2</td>\n",
       "      <td>1</td>\n",
       "      <td>131.408615</td>\n",
       "      <td>9.317354</td>\n",
       "      <td>...</td>\n",
       "      <td>{u'IsSystem': False, u'Name': u'Active', u'Val...</td>\n",
       "      <td>{u'IsSystem': False, u'Name': u'Active', u'Val...</td>\n",
       "      <td>{u'IsSystem': False, u'Name': u'Inactive', u'V...</td>\n",
       "      <td>{u'IsSystem': False, u'Name': u'Inactive', u'V...</td>\n",
       "      <td>{u'IsSystem': False, u'Name': u'Inactive', u'V...</td>\n",
       "      <td>{u'IsSystem': False, u'Name': u'Active', u'Val...</td>\n",
       "      <td>2</td>\n",
       "      <td>1</td>\n",
       "      <td>1</td>\n",
       "      <td>1</td>\n",
       "    </tr>\n",
       "    <tr>\n",
       "      <td>14994</td>\n",
       "      <td>2019-07-20T08:39:58.0050048Z</td>\n",
       "      <td>08:39:54</td>\n",
       "      <td>4.323736</td>\n",
       "      <td>492.465100</td>\n",
       "      <td>2</td>\n",
       "      <td>2</td>\n",
       "      <td>2</td>\n",
       "      <td>1</td>\n",
       "      <td>131.408615</td>\n",
       "      <td>9.316713</td>\n",
       "      <td>...</td>\n",
       "      <td>{u'IsSystem': False, u'Name': u'Active', u'Val...</td>\n",
       "      <td>{u'IsSystem': False, u'Name': u'Active', u'Val...</td>\n",
       "      <td>{u'IsSystem': False, u'Name': u'Inactive', u'V...</td>\n",
       "      <td>{u'IsSystem': False, u'Name': u'Inactive', u'V...</td>\n",
       "      <td>{u'IsSystem': False, u'Name': u'Inactive', u'V...</td>\n",
       "      <td>{u'IsSystem': False, u'Name': u'Active', u'Val...</td>\n",
       "      <td>2</td>\n",
       "      <td>1</td>\n",
       "      <td>1</td>\n",
       "      <td>1</td>\n",
       "    </tr>\n",
       "    <tr>\n",
       "      <td>14995</td>\n",
       "      <td>2019-07-20T08:39:59.004013Z</td>\n",
       "      <td>08:39:55</td>\n",
       "      <td>4.323736</td>\n",
       "      <td>492.896881</td>\n",
       "      <td>2</td>\n",
       "      <td>2</td>\n",
       "      <td>2</td>\n",
       "      <td>1</td>\n",
       "      <td>131.408615</td>\n",
       "      <td>9.313829</td>\n",
       "      <td>...</td>\n",
       "      <td>{u'IsSystem': False, u'Name': u'Active', u'Val...</td>\n",
       "      <td>{u'IsSystem': False, u'Name': u'Active', u'Val...</td>\n",
       "      <td>{u'IsSystem': False, u'Name': u'Inactive', u'V...</td>\n",
       "      <td>{u'IsSystem': False, u'Name': u'Inactive', u'V...</td>\n",
       "      <td>{u'IsSystem': False, u'Name': u'Inactive', u'V...</td>\n",
       "      <td>{u'IsSystem': False, u'Name': u'Active', u'Val...</td>\n",
       "      <td>2</td>\n",
       "      <td>1</td>\n",
       "      <td>1</td>\n",
       "      <td>1</td>\n",
       "    </tr>\n",
       "  </tbody>\n",
       "</table>\n",
       "<p>14996 rows × 79 columns</p>\n",
       "</div>"
      ],
      "text/plain": [
       "                            t_stamp      time   FIT 101      LIT101  MV101  \\\n",
       "0              2019-07-20T04:30:00Z  04:30:00       NaN  729.865800      1   \n",
       "1              2019-07-20T04:30:01Z  04:30:01  0.000000  729.434000      1   \n",
       "2       2019-07-20T04:30:02.004013Z  04:30:02  0.000000  729.120000      1   \n",
       "3       2019-07-20T04:30:03.004013Z  04:30:03  0.000000  728.688200      1   \n",
       "4              2019-07-20T04:30:04Z  04:30:04  0.000000  727.706900      1   \n",
       "...                             ...       ...       ...         ...    ...   \n",
       "14991   2019-07-20T08:39:55.001007Z  08:39:51  4.200429  491.169769      2   \n",
       "14992  2019-07-20T08:39:56.0050048Z  08:39:52  4.253915  491.405273      2   \n",
       "14993  2019-07-20T08:39:57.0050048Z  08:39:53  4.303558  492.308100      2   \n",
       "14994  2019-07-20T08:39:58.0050048Z  08:39:54  4.323736  492.465100      2   \n",
       "14995   2019-07-20T08:39:59.004013Z  08:39:55  4.323736  492.896881      2   \n",
       "\n",
       "       P1_STATE  P101 Status  P102 Status      AIT201   AIT 202  ...  \\\n",
       "0             3            2            1  142.527557  9.293002  ...   \n",
       "1             3            2            1  142.527557  9.293002  ...   \n",
       "2             3            2            1  142.527557  9.293002  ...   \n",
       "3             3            2            1  142.527557  9.289157  ...   \n",
       "4             3            2            1  142.527557  9.289157  ...   \n",
       "...         ...          ...          ...         ...       ...  ...   \n",
       "14991         2            2            1  131.408615  9.319918  ...   \n",
       "14992         2            2            1  131.408615  9.317354  ...   \n",
       "14993         2            2            1  131.408615  9.317354  ...   \n",
       "14994         2            2            1  131.408615  9.316713  ...   \n",
       "14995         2            2            1  131.408615  9.313829  ...   \n",
       "\n",
       "                                                 LSH 601  \\\n",
       "0      {u'IsSystem': False, u'Name': u'Active', u'Val...   \n",
       "1      {u'IsSystem': False, u'Name': u'Active', u'Val...   \n",
       "2      {u'IsSystem': False, u'Name': u'Active', u'Val...   \n",
       "3      {u'IsSystem': False, u'Name': u'Active', u'Val...   \n",
       "4      {u'IsSystem': False, u'Name': u'Active', u'Val...   \n",
       "...                                                  ...   \n",
       "14991  {u'IsSystem': False, u'Name': u'Active', u'Val...   \n",
       "14992  {u'IsSystem': False, u'Name': u'Active', u'Val...   \n",
       "14993  {u'IsSystem': False, u'Name': u'Active', u'Val...   \n",
       "14994  {u'IsSystem': False, u'Name': u'Active', u'Val...   \n",
       "14995  {u'IsSystem': False, u'Name': u'Active', u'Val...   \n",
       "\n",
       "                                                 LSH 602  \\\n",
       "0      {u'IsSystem': False, u'Name': u'Active', u'Val...   \n",
       "1      {u'IsSystem': False, u'Name': u'Active', u'Val...   \n",
       "2      {u'IsSystem': False, u'Name': u'Active', u'Val...   \n",
       "3      {u'IsSystem': False, u'Name': u'Active', u'Val...   \n",
       "4      {u'IsSystem': False, u'Name': u'Active', u'Val...   \n",
       "...                                                  ...   \n",
       "14991  {u'IsSystem': False, u'Name': u'Active', u'Val...   \n",
       "14992  {u'IsSystem': False, u'Name': u'Active', u'Val...   \n",
       "14993  {u'IsSystem': False, u'Name': u'Active', u'Val...   \n",
       "14994  {u'IsSystem': False, u'Name': u'Active', u'Val...   \n",
       "14995  {u'IsSystem': False, u'Name': u'Active', u'Val...   \n",
       "\n",
       "                                                 LSH 603  \\\n",
       "0      {u'IsSystem': False, u'Name': u'Inactive', u'V...   \n",
       "1      {u'IsSystem': False, u'Name': u'Inactive', u'V...   \n",
       "2      {u'IsSystem': False, u'Name': u'Inactive', u'V...   \n",
       "3      {u'IsSystem': False, u'Name': u'Inactive', u'V...   \n",
       "4      {u'IsSystem': False, u'Name': u'Inactive', u'V...   \n",
       "...                                                  ...   \n",
       "14991  {u'IsSystem': False, u'Name': u'Inactive', u'V...   \n",
       "14992  {u'IsSystem': False, u'Name': u'Inactive', u'V...   \n",
       "14993  {u'IsSystem': False, u'Name': u'Inactive', u'V...   \n",
       "14994  {u'IsSystem': False, u'Name': u'Inactive', u'V...   \n",
       "14995  {u'IsSystem': False, u'Name': u'Inactive', u'V...   \n",
       "\n",
       "                                                 LSL 601  \\\n",
       "0      {u'IsSystem': False, u'Name': u'Inactive', u'V...   \n",
       "1      {u'IsSystem': False, u'Name': u'Inactive', u'V...   \n",
       "2      {u'IsSystem': False, u'Name': u'Inactive', u'V...   \n",
       "3      {u'IsSystem': False, u'Name': u'Inactive', u'V...   \n",
       "4      {u'IsSystem': False, u'Name': u'Inactive', u'V...   \n",
       "...                                                  ...   \n",
       "14991  {u'IsSystem': False, u'Name': u'Inactive', u'V...   \n",
       "14992  {u'IsSystem': False, u'Name': u'Inactive', u'V...   \n",
       "14993  {u'IsSystem': False, u'Name': u'Inactive', u'V...   \n",
       "14994  {u'IsSystem': False, u'Name': u'Inactive', u'V...   \n",
       "14995  {u'IsSystem': False, u'Name': u'Inactive', u'V...   \n",
       "\n",
       "                                                 LSL 602  \\\n",
       "0      {u'IsSystem': False, u'Name': u'Inactive', u'V...   \n",
       "1      {u'IsSystem': False, u'Name': u'Inactive', u'V...   \n",
       "2      {u'IsSystem': False, u'Name': u'Inactive', u'V...   \n",
       "3      {u'IsSystem': False, u'Name': u'Inactive', u'V...   \n",
       "4      {u'IsSystem': False, u'Name': u'Inactive', u'V...   \n",
       "...                                                  ...   \n",
       "14991  {u'IsSystem': False, u'Name': u'Inactive', u'V...   \n",
       "14992  {u'IsSystem': False, u'Name': u'Inactive', u'V...   \n",
       "14993  {u'IsSystem': False, u'Name': u'Inactive', u'V...   \n",
       "14994  {u'IsSystem': False, u'Name': u'Inactive', u'V...   \n",
       "14995  {u'IsSystem': False, u'Name': u'Inactive', u'V...   \n",
       "\n",
       "                                                 LSL 603  P6 STATE  \\\n",
       "0      {u'IsSystem': False, u'Name': u'Active', u'Val...         2   \n",
       "1      {u'IsSystem': False, u'Name': u'Active', u'Val...         2   \n",
       "2      {u'IsSystem': False, u'Name': u'Active', u'Val...         2   \n",
       "3      {u'IsSystem': False, u'Name': u'Active', u'Val...         2   \n",
       "4      {u'IsSystem': False, u'Name': u'Active', u'Val...         2   \n",
       "...                                                  ...       ...   \n",
       "14991  {u'IsSystem': False, u'Name': u'Active', u'Val...         2   \n",
       "14992  {u'IsSystem': False, u'Name': u'Active', u'Val...         2   \n",
       "14993  {u'IsSystem': False, u'Name': u'Active', u'Val...         2   \n",
       "14994  {u'IsSystem': False, u'Name': u'Active', u'Val...         2   \n",
       "14995  {u'IsSystem': False, u'Name': u'Active', u'Val...         2   \n",
       "\n",
       "       P601 Status  P602 Status  P603 Status  \n",
       "0                1            1            1  \n",
       "1                1            1            1  \n",
       "2                1            1            1  \n",
       "3                1            1            1  \n",
       "4                1            1            1  \n",
       "...            ...          ...          ...  \n",
       "14991            1            1            1  \n",
       "14992            1            1            1  \n",
       "14993            1            1            1  \n",
       "14994            1            1            1  \n",
       "14995            1            1            1  \n",
       "\n",
       "[14996 rows x 79 columns]"
      ]
     },
     "execution_count": 2,
     "metadata": {},
     "output_type": "execute_result"
    }
   ],
   "source": [
    "data=pd.read_excel('C:/Users/User/Desktop/dataset/SWaT_dataset_Jul 19.xlsx')\n",
    "data"
   ]
  },
  {
   "cell_type": "code",
   "execution_count": 3,
   "metadata": {},
   "outputs": [
    {
     "data": {
      "text/plain": [
       "array([[729.8658  ,   1.      ],\n",
       "       [729.434   ,   1.      ],\n",
       "       [729.12    ,   1.      ],\n",
       "       ...,\n",
       "       [492.3081  ,   2.      ],\n",
       "       [492.4651  ,   2.      ],\n",
       "       [492.896881,   2.      ]])"
      ]
     },
     "execution_count": 3,
     "metadata": {},
     "output_type": "execute_result"
    }
   ],
   "source": [
    "real_x=data.iloc[:,[3,4]].values\n",
    "real_y=data.iloc[:,6].values\n",
    "real_x\n"
   ]
  },
  {
   "cell_type": "code",
   "execution_count": 4,
   "metadata": {},
   "outputs": [
    {
     "data": {
      "text/plain": [
       "array([[776.1055  ,   1.      ],\n",
       "       [821.442444,   1.      ],\n",
       "       [819.9901  ,   1.      ],\n",
       "       ...,\n",
       "       [820.892944,   1.      ],\n",
       "       [621.371155,   1.      ],\n",
       "       [760.2867  ,   1.      ]])"
      ]
     },
     "execution_count": 4,
     "metadata": {},
     "output_type": "execute_result"
    }
   ],
   "source": [
    "training_x,test_x,training_y,test_y=train_test_split(real_x,real_y,test_size=0.25,random_state=0)\n",
    "test_x "
   ]
  },
  {
   "cell_type": "code",
   "execution_count": 5,
   "metadata": {},
   "outputs": [
    {
     "data": {
      "text/plain": [
       "array([[ 0.37725048, -0.4106882 ],\n",
       "       [ 0.78551228, -0.4106882 ],\n",
       "       [ 0.77243383, -0.4106882 ],\n",
       "       ...,\n",
       "       [ 0.780564  , -0.4106882 ],\n",
       "       [-1.01614122, -0.4106882 ],\n",
       "       [ 0.23480127, -0.4106882 ]])"
      ]
     },
     "execution_count": 5,
     "metadata": {},
     "output_type": "execute_result"
    }
   ],
   "source": [
    "s_c=StandardScaler()\n",
    "training_x=s_c.fit_transform(training_x)\n",
    "test_x=s_c.transform(test_x)\n",
    "test_x\n",
    "\n"
   ]
  },
  {
   "cell_type": "code",
   "execution_count": 6,
   "metadata": {},
   "outputs": [
    {
     "data": {
      "text/plain": [
       "KNeighborsClassifier(algorithm='auto', leaf_size=30, metric='minkowski',\n",
       "                     metric_params=None, n_jobs=None, n_neighbors=9, p=2,\n",
       "                     weights='uniform')"
      ]
     },
     "execution_count": 6,
     "metadata": {},
     "output_type": "execute_result"
    }
   ],
   "source": [
    "cls=KNeighborsClassifier(n_neighbors=9,metric='minkowski', p=2)\n",
    "cls.fit(training_x,training_y)"
   ]
  },
  {
   "cell_type": "code",
   "execution_count": 7,
   "metadata": {},
   "outputs": [
    {
     "data": {
      "text/plain": [
       "array([2, 1, 1, ..., 1, 2, 2], dtype=int64)"
      ]
     },
     "execution_count": 7,
     "metadata": {},
     "output_type": "execute_result"
    }
   ],
   "source": [
    "y_pred= cls.predict(test_x)\n",
    "y_pred"
   ]
  },
  {
   "cell_type": "code",
   "execution_count": 8,
   "metadata": {},
   "outputs": [
    {
     "data": {
      "text/plain": [
       "array([2, 1, 1, ..., 1, 2, 2], dtype=int64)"
      ]
     },
     "execution_count": 8,
     "metadata": {},
     "output_type": "execute_result"
    }
   ],
   "source": [
    " test_y"
   ]
  },
  {
   "cell_type": "code",
   "execution_count": 9,
   "metadata": {},
   "outputs": [
    {
     "data": {
      "text/plain": [
       "array([[2267,   47],\n",
       "       [  84, 1351]], dtype=int64)"
      ]
     },
     "execution_count": 9,
     "metadata": {},
     "output_type": "execute_result"
    }
   ],
   "source": [
    "c_m=confusion_matrix(test_y,y_pred)\n",
    "c_m"
   ]
  },
  {
   "cell_type": "code",
   "execution_count": 13,
   "metadata": {},
   "outputs": [
    {
     "ename": "SyntaxError",
     "evalue": "invalid syntax (<ipython-input-13-6fa11ed992f0>, line 4)",
     "output_type": "error",
     "traceback": [
      "\u001b[1;36m  File \u001b[1;32m\"<ipython-input-13-6fa11ed992f0>\"\u001b[1;36m, line \u001b[1;32m4\u001b[0m\n\u001b[1;33m    np.arange(start=X_set[:,1].min()-1,stop=X_set[:,1].max()+1,step=0.01)\u001b[0m\n\u001b[1;37m     ^\u001b[0m\n\u001b[1;31mSyntaxError\u001b[0m\u001b[1;31m:\u001b[0m invalid syntax\n"
     ]
    }
   ],
   "source": [
    "from matplotlib.colors import ListedColormap\n",
    "X_set,y_set=training_x,training_y\n",
    "X1,X2=np.meshgrid(np.arange(start=X_set[:,0].min()-1,stop=X_set[:,0].max()+1,step=0.01)\n",
    "                np.arange(start=X_set[:,1].min()-1,stop=X_set[:,1].max()+1,step=0.01)\n",
    "plt.contourf(X1,X2,cls.predict(np.array([X1.revel(),X2.revel()]).T).reshape(X1.shape),\n",
    "                alpha=0.75,cmap=ListedColormap(('red','green')))\n",
    "plt.xlim(X1.min(),X1.max())\n",
    "plt.xlim(X2.min(),X2.max())        \n",
    "for i,j in enumerate(np.unique(y_set)):\n",
    "       plt.scatter(X_set[y_set==j,0],X_set[y_set==j,1],\n",
    "                  c=ListedColormap(('red','green'))(i),label=j)\n",
    "plt.title('K-NN(Training set)')\n",
    "plt.xlabel('LIT101')\n",
    "plt.ylabel('MV101')\n",
    "plt.legend()\n",
    "plt.show()                  \n",
    "               "
   ]
  },
  {
   "cell_type": "code",
   "execution_count": 14,
   "metadata": {},
   "outputs": [
    {
     "name": "stdout",
     "output_type": "stream",
     "text": [
      "0.9650573486263003\n"
     ]
    }
   ],
   "source": [
    "from sklearn import metrics\n",
    "\n",
    "print(metrics.accuracy_score(test_y,y_pred))"
   ]
  },
  {
   "cell_type": "code",
   "execution_count": 15,
   "metadata": {},
   "outputs": [
    {
     "name": "stdout",
     "output_type": "stream",
     "text": [
      "[[2267   47]\n",
      " [  84 1351]]\n",
      "              precision    recall  f1-score   support\n",
      "\n",
      "           1       0.96      0.98      0.97      2314\n",
      "           2       0.97      0.94      0.95      1435\n",
      "\n",
      "    accuracy                           0.97      3749\n",
      "   macro avg       0.97      0.96      0.96      3749\n",
      "weighted avg       0.97      0.97      0.96      3749\n",
      "\n"
     ]
    }
   ],
   "source": [
    "print (confusion_matrix(test_y,y_pred))\n",
    "print(classification_report(test_y,y_pred))"
   ]
  },
  {
   "cell_type": "code",
   "execution_count": null,
   "metadata": {},
   "outputs": [],
   "source": []
  },
  {
   "cell_type": "code",
   "execution_count": 24,
   "metadata": {},
   "outputs": [
    {
     "name": "stderr",
     "output_type": "stream",
     "text": [
      "'c' argument looks like a single numeric RGB or RGBA sequence, which should be avoided as value-mapping will have precedence in case its length matches with 'x' & 'y'.  Please use a 2-D array with a single row if you really want to specify the same RGB or RGBA value for all points.\n",
      "'c' argument looks like a single numeric RGB or RGBA sequence, which should be avoided as value-mapping will have precedence in case its length matches with 'x' & 'y'.  Please use a 2-D array with a single row if you really want to specify the same RGB or RGBA value for all points.\n"
     ]
    },
    {
     "data": {
      "image/png": "[encoded data removed]",
      "text/plain": [
       "<Figure size 432x288 with 1 Axes>"
      ]
     },
     "metadata": {
      "needs_background": "light"
     },
     "output_type": "display_data"
    }
   ],
   "source": [
    "from matplotlib.colors import ListedColormap\n",
    "X_set, y_set = test_x, test_y\n",
    "X1, X2 = np.meshgrid(np.arange(start = X_set[:, 0].min() - 1, stop = X_set[:, 0].max() + 1, step = 0.01),\n",
    "                     np.arange(start = X_set[:, 1].min() - 1, stop = X_set[:, 1].max() + 1, step = 0.01))\n",
    "plt.contourf(X1, X2, cls.predict(np.array([X1.ravel(), X2.ravel()]).T).reshape(X1.shape),\n",
    "             alpha = 0.75, cmap = ListedColormap(('red', 'green')))\n",
    "plt.xlim(X1.min(), X1.max())\n",
    "plt.ylim(X2.min(), X2.max())\n",
    "for i, j in enumerate(np.unique(y_set)):\n",
    "    plt.scatter(X_set[y_set == j, 0], X_set[y_set == j, 1],\n",
    "                c = ListedColormap(('red', 'green'))(i), label = j)\n",
    "plt.title('cls(Test set)')\n",
    "plt.xlabel('Age')\n",
    "plt.ylabel('Estimated Salary')\n",
    "plt.legend()\n",
    "plt.show()"
   ]
  },
  {
   "cell_type": "code",
   "execution_count": null,
   "metadata": {},
   "outputs": [],
   "source": []
  }
 ],
 "metadata": {
  "kernelspec": {
   "display_name": "Python 3",
   "language": "python",
   "name": "python3"
  },
  "language_info": {
   "codemirror_mode": {
    "name": "ipython",
    "version": 3
   },
   "file_extension": ".py",
   "mimetype": "text/x-python",
   "name": "python",
   "nbconvert_exporter": "python",
   "pygments_lexer": "ipython3",
   "version": "3.7.4"
  }
 },
 "nbformat": 4,
 "nbformat_minor": 2
}
